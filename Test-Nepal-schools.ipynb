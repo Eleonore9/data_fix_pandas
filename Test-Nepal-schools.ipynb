{
 "cells": [
  {
   "cell_type": "code",
   "execution_count": 110,
   "metadata": {
    "collapsed": true
   },
   "outputs": [],
   "source": [
    "import pandas as pd\n",
    "import numpy as np"
   ]
  },
  {
   "cell_type": "markdown",
   "metadata": {},
   "source": [
    "### I made a testing excel file with missing info for each school"
   ]
  },
  {
   "cell_type": "code",
   "execution_count": 111,
   "metadata": {
    "collapsed": false
   },
   "outputs": [],
   "source": [
    "df_data = pd.read_excel(\"test-nepal-schools.xls\")"
   ]
  },
  {
   "cell_type": "code",
   "execution_count": 112,
   "metadata": {
    "collapsed": false
   },
   "outputs": [
    {
     "data": {
      "text/html": [
       "<div style=\"max-height:1000px;max-width:1500px;overflow:auto;\">\n",
       "<table border=\"1\" class=\"dataframe\">\n",
       "  <thead>\n",
       "    <tr style=\"text-align: right;\">\n",
       "      <th></th>\n",
       "      <th>school</th>\n",
       "      <th>director</th>\n",
       "      <th>location</th>\n",
       "      <th>block</th>\n",
       "    </tr>\n",
       "  </thead>\n",
       "  <tbody>\n",
       "    <tr>\n",
       "      <th>0</th>\n",
       "      <td>school1</td>\n",
       "      <td>d1</td>\n",
       "      <td>location1</td>\n",
       "      <td>a</td>\n",
       "    </tr>\n",
       "    <tr>\n",
       "      <th>1</th>\n",
       "      <td>NaN</td>\n",
       "      <td>NaN</td>\n",
       "      <td>NaN</td>\n",
       "      <td>b</td>\n",
       "    </tr>\n",
       "    <tr>\n",
       "      <th>2</th>\n",
       "      <td>NaN</td>\n",
       "      <td>NaN</td>\n",
       "      <td>NaN</td>\n",
       "      <td>c</td>\n",
       "    </tr>\n",
       "    <tr>\n",
       "      <th>3</th>\n",
       "      <td>school2</td>\n",
       "      <td>d2</td>\n",
       "      <td>location2</td>\n",
       "      <td>a</td>\n",
       "    </tr>\n",
       "    <tr>\n",
       "      <th>4</th>\n",
       "      <td>NaN</td>\n",
       "      <td>NaN</td>\n",
       "      <td>NaN</td>\n",
       "      <td>b</td>\n",
       "    </tr>\n",
       "    <tr>\n",
       "      <th>5</th>\n",
       "      <td>NaN</td>\n",
       "      <td>NaN</td>\n",
       "      <td>NaN</td>\n",
       "      <td>c</td>\n",
       "    </tr>\n",
       "    <tr>\n",
       "      <th>6</th>\n",
       "      <td>NaN</td>\n",
       "      <td>NaN</td>\n",
       "      <td>NaN</td>\n",
       "      <td>d</td>\n",
       "    </tr>\n",
       "  </tbody>\n",
       "</table>\n",
       "</div>"
      ],
      "text/plain": [
       "    school director   location block\n",
       "0  school1       d1  location1     a\n",
       "1      NaN      NaN        NaN     b\n",
       "2      NaN      NaN        NaN     c\n",
       "3  school2       d2  location2     a\n",
       "4      NaN      NaN        NaN     b\n",
       "5      NaN      NaN        NaN     c\n",
       "6      NaN      NaN        NaN     d"
      ]
     },
     "execution_count": 112,
     "metadata": {},
     "output_type": "execute_result"
    }
   ],
   "source": [
    "df_data"
   ]
  },
  {
   "cell_type": "markdown",
   "metadata": {},
   "source": [
    "####The empty cells in excel are represented as NaN"
   ]
  },
  {
   "cell_type": "code",
   "execution_count": 113,
   "metadata": {
    "collapsed": false
   },
   "outputs": [
    {
     "name": "stdout",
     "output_type": "stream",
     "text": [
      "0    school1\n",
      "1        NaN\n",
      "2        NaN\n",
      "3    school2\n",
      "4        NaN\n",
      "5        NaN\n",
      "6        NaN\n",
      "Name: school, dtype: object\n",
      "There are 7 schools.\n"
     ]
    }
   ],
   "source": [
    "all_schools = df_data[\"school\"]\n",
    "print all_schools\n",
    "\n",
    "print \"There are %d schools.\" %len(df_data[\"school\"])"
   ]
  },
  {
   "cell_type": "code",
   "execution_count": 114,
   "metadata": {
    "collapsed": false
   },
   "outputs": [
    {
     "name": "stdout",
     "output_type": "stream",
     "text": [
      "<type 'unicode'>\n",
      "<type 'float'>\n",
      "<type 'float'>\n",
      "<type 'unicode'>\n",
      "<type 'float'>\n",
      "<type 'float'>\n",
      "<type 'float'>\n"
     ]
    }
   ],
   "source": [
    "for i in range(len(all_schools)):\n",
    "    print type(all_schools[i])"
   ]
  },
  {
   "cell_type": "markdown",
   "metadata": {},
   "source": [
    "### Names are of type unicode while NaN are of type float\n",
    "####It's a bit of a hack but I'm going to use it below to distinguish between good data and missing data"
   ]
  },
  {
   "cell_type": "code",
   "execution_count": 115,
   "metadata": {
    "collapsed": false
   },
   "outputs": [
    {
     "name": "stdout",
     "output_type": "stream",
     "text": [
      "{'Director': [u'd1', u'd1', u'd1', u'd2', u'd2', u'd2', u'd2'], 'School': [u'school1', u'school1', u'school1', u'school2', u'school2', u'school2', u'school2'], 'Location': [u'location1', u'location1', u'location1', u'location2', u'location2', u'location2', u'location2']}\n"
     ]
    }
   ],
   "source": [
    "# I'm creating a new data sctructure to store my data after adding the missing bits\n",
    "new_schools = {'School': [], 'Director': [], 'Location': []}\n",
    "\n",
    "for i in range(len(df_data)):\n",
    "    if isinstance(df_data.loc[i]['school'], unicode):\n",
    "        new_schools['School'].append(df_data.loc[i]['school'])\n",
    "        new_schools['Director'].append(df_data.loc[i]['director'])\n",
    "        new_schools['Location'].append(df_data.loc[i]['location'])\n",
    "    elif isinstance(df_data.loc[i]['school'], float):\n",
    "        new_schools['School'].append(new_schools['School'][i-1])\n",
    "        new_schools['Director'].append(new_schools['Director'][i-1])\n",
    "        new_schools['Location'].append(new_schools['Location'][i-1])\n",
    "        \n",
    "print new_schools"
   ]
  },
  {
   "cell_type": "code",
   "execution_count": 116,
   "metadata": {
    "collapsed": false
   },
   "outputs": [
    {
     "name": "stdout",
     "output_type": "stream",
     "text": [
      "{'Director': [u'd1', u'd1', u'd1', u'd2', u'd2', u'd2', u'd2'], 'School': [u'school1', u'school1', u'school1', u'school2', u'school2', u'school2', u'school2'], 'Location': [u'location1', u'location1', u'location1', u'location2', u'location2', u'location2', u'location2'], 'Block': [u'a', u'b', u'c', u'a', u'b', u'c', u'd']}\n"
     ]
    }
   ],
   "source": [
    "# I'm adding the block data that doesn't include missing fields\n",
    "new_schools['Block'] = list(df_data['block'])\n",
    "\n",
    "print new_schools"
   ]
  },
  {
   "cell_type": "code",
   "execution_count": 117,
   "metadata": {
    "collapsed": false
   },
   "outputs": [
    {
     "data": {
      "text/html": [
       "<div style=\"max-height:1000px;max-width:1500px;overflow:auto;\">\n",
       "<table border=\"1\" class=\"dataframe\">\n",
       "  <thead>\n",
       "    <tr style=\"text-align: right;\">\n",
       "      <th></th>\n",
       "      <th>Block</th>\n",
       "      <th>Director</th>\n",
       "      <th>Location</th>\n",
       "      <th>School</th>\n",
       "    </tr>\n",
       "  </thead>\n",
       "  <tbody>\n",
       "    <tr>\n",
       "      <th>0</th>\n",
       "      <td>a</td>\n",
       "      <td>d1</td>\n",
       "      <td>location1</td>\n",
       "      <td>school1</td>\n",
       "    </tr>\n",
       "    <tr>\n",
       "      <th>1</th>\n",
       "      <td>b</td>\n",
       "      <td>d1</td>\n",
       "      <td>location1</td>\n",
       "      <td>school1</td>\n",
       "    </tr>\n",
       "    <tr>\n",
       "      <th>2</th>\n",
       "      <td>c</td>\n",
       "      <td>d1</td>\n",
       "      <td>location1</td>\n",
       "      <td>school1</td>\n",
       "    </tr>\n",
       "    <tr>\n",
       "      <th>3</th>\n",
       "      <td>a</td>\n",
       "      <td>d2</td>\n",
       "      <td>location2</td>\n",
       "      <td>school2</td>\n",
       "    </tr>\n",
       "    <tr>\n",
       "      <th>4</th>\n",
       "      <td>b</td>\n",
       "      <td>d2</td>\n",
       "      <td>location2</td>\n",
       "      <td>school2</td>\n",
       "    </tr>\n",
       "    <tr>\n",
       "      <th>5</th>\n",
       "      <td>c</td>\n",
       "      <td>d2</td>\n",
       "      <td>location2</td>\n",
       "      <td>school2</td>\n",
       "    </tr>\n",
       "    <tr>\n",
       "      <th>6</th>\n",
       "      <td>d</td>\n",
       "      <td>d2</td>\n",
       "      <td>location2</td>\n",
       "      <td>school2</td>\n",
       "    </tr>\n",
       "  </tbody>\n",
       "</table>\n",
       "</div>"
      ],
      "text/plain": [
       "  Block Director   Location   School\n",
       "0     a       d1  location1  school1\n",
       "1     b       d1  location1  school1\n",
       "2     c       d1  location1  school1\n",
       "3     a       d2  location2  school2\n",
       "4     b       d2  location2  school2\n",
       "5     c       d2  location2  school2\n",
       "6     d       d2  location2  school2"
      ]
     },
     "execution_count": 117,
     "metadata": {},
     "output_type": "execute_result"
    }
   ],
   "source": [
    "## This way I can create a new data frame and save as a csv (or could be another format)\n",
    "df_data2 = pd.DataFrame.from_dict(new_schools)\n",
    "\n",
    "df_data2"
   ]
  },
  {
   "cell_type": "code",
   "execution_count": 118,
   "metadata": {
    "collapsed": false
   },
   "outputs": [
    {
     "data": {
      "text/html": [
       "<div style=\"max-height:1000px;max-width:1500px;overflow:auto;\">\n",
       "<table border=\"1\" class=\"dataframe\">\n",
       "  <thead>\n",
       "    <tr style=\"text-align: right;\">\n",
       "      <th></th>\n",
       "      <th>School</th>\n",
       "      <th>Director</th>\n",
       "      <th>Location</th>\n",
       "      <th>Block</th>\n",
       "    </tr>\n",
       "  </thead>\n",
       "  <tbody>\n",
       "    <tr>\n",
       "      <th>0</th>\n",
       "      <td>school1</td>\n",
       "      <td>d1</td>\n",
       "      <td>location1</td>\n",
       "      <td>a</td>\n",
       "    </tr>\n",
       "    <tr>\n",
       "      <th>1</th>\n",
       "      <td>school1</td>\n",
       "      <td>d1</td>\n",
       "      <td>location1</td>\n",
       "      <td>b</td>\n",
       "    </tr>\n",
       "    <tr>\n",
       "      <th>2</th>\n",
       "      <td>school1</td>\n",
       "      <td>d1</td>\n",
       "      <td>location1</td>\n",
       "      <td>c</td>\n",
       "    </tr>\n",
       "    <tr>\n",
       "      <th>3</th>\n",
       "      <td>school2</td>\n",
       "      <td>d2</td>\n",
       "      <td>location2</td>\n",
       "      <td>a</td>\n",
       "    </tr>\n",
       "    <tr>\n",
       "      <th>4</th>\n",
       "      <td>school2</td>\n",
       "      <td>d2</td>\n",
       "      <td>location2</td>\n",
       "      <td>b</td>\n",
       "    </tr>\n",
       "    <tr>\n",
       "      <th>5</th>\n",
       "      <td>school2</td>\n",
       "      <td>d2</td>\n",
       "      <td>location2</td>\n",
       "      <td>c</td>\n",
       "    </tr>\n",
       "    <tr>\n",
       "      <th>6</th>\n",
       "      <td>school2</td>\n",
       "      <td>d2</td>\n",
       "      <td>location2</td>\n",
       "      <td>d</td>\n",
       "    </tr>\n",
       "  </tbody>\n",
       "</table>\n",
       "</div>"
      ],
      "text/plain": [
       "    School Director   Location Block\n",
       "0  school1       d1  location1     a\n",
       "1  school1       d1  location1     b\n",
       "2  school1       d1  location1     c\n",
       "3  school2       d2  location2     a\n",
       "4  school2       d2  location2     b\n",
       "5  school2       d2  location2     c\n",
       "6  school2       d2  location2     d"
      ]
     },
     "execution_count": 118,
     "metadata": {},
     "output_type": "execute_result"
    }
   ],
   "source": [
    "## I can re-order the columns if needed\n",
    "df_data2 = df_data2.reindex(columns=[\"School\", \"Director\", \"Location\", \"Block\"])"
   ]
  },
  {
   "cell_type": "code",
   "execution_count": 119,
   "metadata": {
    "collapsed": true
   },
   "outputs": [],
   "source": [
    "df_data2.to_csv(\"test-nepal-schools-fixed.csv\", index=False)"
   ]
  },
  {
   "cell_type": "code",
   "execution_count": null,
   "metadata": {
    "collapsed": true
   },
   "outputs": [],
   "source": []
  }
 ],
 "metadata": {
  "kernelspec": {
   "display_name": "Python 2",
   "language": "python",
   "name": "python2"
  },
  "language_info": {
   "codemirror_mode": {
    "name": "ipython",
    "version": 2
   },
   "file_extension": ".py",
   "mimetype": "text/x-python",
   "name": "python",
   "nbconvert_exporter": "python",
   "pygments_lexer": "ipython2",
   "version": "2.7.6"
  }
 },
 "nbformat": 4,
 "nbformat_minor": 0
}
